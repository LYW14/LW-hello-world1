{
 "cells": [
  {
   "cell_type": "code",
   "execution_count": 3,
   "metadata": {},
   "outputs": [
    {
     "name": "stdin",
     "output_type": "stream",
     "text": [
      "What's your name?  kjfs\n",
      "What's your age?  19283\n"
     ]
    },
    {
     "name": "stdout",
     "output_type": "stream",
     "text": [
      "Hello kjfs! You are 19283.\n"
     ]
    },
    {
     "name": "stdin",
     "output_type": "stream",
     "text": [
      "What is your zodiac sign?  afdsjl\n"
     ]
    },
    {
     "name": "stdout",
     "output_type": "stream",
     "text": [
      "Happy Libra season  kjfs !\n"
     ]
    }
   ],
   "source": [
    "name = input(\"What's your name? \")\n",
    "age = input(\"What's your age? \")\n",
    "print(f\"Hello {name}! You are {age}.\")\n",
    "zodiac = input(\"What is your zodiac sign? \")\n",
    "if zodiac == \"Libra\":\n",
    "    print(\"The Sun is passing through YOUR zodiac right now!\")\n",
    "print(\"Happy Libra season \", name, \"!\") \n"
   ]
  },
  {
   "cell_type": "code",
   "execution_count": null,
   "metadata": {},
   "outputs": [],
   "source": []
  }
 ],
 "metadata": {
  "kernelspec": {
   "display_name": "Python 3",
   "language": "python",
   "name": "python3"
  },
  "language_info": {
   "codemirror_mode": {
    "name": "ipython",
    "version": 3
   },
   "file_extension": ".py",
   "mimetype": "text/x-python",
   "name": "python",
   "nbconvert_exporter": "python",
   "pygments_lexer": "ipython3",
   "version": "3.8.3"
  }
 },
 "nbformat": 4,
 "nbformat_minor": 4
}
